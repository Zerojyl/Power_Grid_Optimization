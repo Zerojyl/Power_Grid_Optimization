{
 "cells": [
  {
   "cell_type": "code",
   "execution_count": 2,
   "metadata": {},
   "outputs": [
    {
     "name": "stdout",
     "output_type": "stream",
     "text": [
      "{'batch_size': 32, 'epochs': 20, 'learning_rate': 0.01, 'hidden_dim': 128, 'data1': {'load_before_training': False, 'load_model_path': None, 'save_model_dir': 'Models/power_forecasting/data1/', 'predict_model_path': 'Models/power_forecasting/data1/power_forecasting_epoch_19.pth'}, 'data2': {'load_before_training': False, 'load_model_path': None, 'save_model_dir': 'Models/power_forecasting/data2/', 'predict_model_path': 'Models/power_forecasting/data2/power_forecasting_epoch_19.pth'}, 'data3': {'load_before_training': False, 'load_model_path': None, 'save_model_dir': 'Models/power_forecasting/data3/', 'predict_model_path': 'Models/power_forecasting/data3/power_forecasting_epoch_19.pth'}, 'data4': {'load_before_training': False, 'load_model_path': None, 'save_model_dir': 'Models/power_forecasting/data4/', 'predict_model_path': 'Models/power_forecasting/data4/power_forecasting_epoch_19.pth'}}\n"
     ]
    }
   ],
   "source": [
    "import yaml \n",
    "# 'C:\\project\\Electric-innovation-competition\\Power_Grid_Optimization\\utils\\configs\\power_forecasting\\lstm_power_forecasting.yaml\n",
    "config_path = 'C:/project/Electric-innovation-competition/Power_Grid_Optimization/utils/configs/power_forecasting/lstm_power_forecasting.yaml'\n",
    "with open(config_path, 'r') as file:\n",
    "    config = yaml.safe_load(file)\n",
    "print(config['model_config'])"
   ]
  }
 ],
 "metadata": {
  "kernelspec": {
   "display_name": "rl",
   "language": "python",
   "name": "python3"
  },
  "language_info": {
   "codemirror_mode": {
    "name": "ipython",
    "version": 3
   },
   "file_extension": ".py",
   "mimetype": "text/x-python",
   "name": "python",
   "nbconvert_exporter": "python",
   "pygments_lexer": "ipython3",
   "version": "3.9.18"
  }
 },
 "nbformat": 4,
 "nbformat_minor": 2
}
